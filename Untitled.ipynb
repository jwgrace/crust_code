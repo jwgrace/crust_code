{
 "cells": [
  {
   "cell_type": "code",
   "execution_count": 1,
   "id": "6185cef1-5702-4ace-a1dc-8ee8a2e7f068",
   "metadata": {},
   "outputs": [],
   "source": [
    "import numpy as np"
   ]
  },
  {
   "cell_type": "code",
   "execution_count": 2,
   "id": "6cc5d894-9b76-476a-9022-56f66fdc5043",
   "metadata": {},
   "outputs": [],
   "source": [
    "G = 6.67e-8\n",
    "c = 3e10\n",
    "M_sun = 1.99e33\n",
    "m_n = 1.67e-24\n",
    "\n",
    "R = 1e6\n",
    "M = 1.4*M_sun"
   ]
  },
  {
   "cell_type": "code",
   "execution_count": null,
   "id": "cb8d9fd2-e77c-4f81-8c0e-12ce6b8be374",
   "metadata": {},
   "outputs": [],
   "source": [
    "def gravitational_potential(r, R=1e6, M=1.4*M_sun):\n",
    "    return -G"
   ]
  }
 ],
 "metadata": {
  "kernelspec": {
   "display_name": "Python 3 (ipykernel)",
   "language": "python",
   "name": "python3"
  },
  "language_info": {
   "codemirror_mode": {
    "name": "ipython",
    "version": 3
   },
   "file_extension": ".py",
   "mimetype": "text/x-python",
   "name": "python",
   "nbconvert_exporter": "python",
   "pygments_lexer": "ipython3",
   "version": "3.8.13"
  }
 },
 "nbformat": 4,
 "nbformat_minor": 5
}
